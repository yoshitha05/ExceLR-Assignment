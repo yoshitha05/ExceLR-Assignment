{
 "cells": [
  {
   "cell_type": "code",
   "execution_count": 1,
   "metadata": {
    "colab": {
     "base_uri": "https://localhost:8080/"
    },
    "id": "CkG66uNtwLzK",
    "outputId": "668a22af-6433-4ac5-b6af-63c1282dc4df"
   },
   "outputs": [
    {
     "name": "stdout",
     "output_type": "stream",
     "text": [
      "Integer variable: 10, Type: <class 'int'>\n",
      "Float variable: 3.14, Type: <class 'float'>\n",
      "String variable: Hello, Type: <class 'str'>\n",
      "Boolean variable: True, Type: <class 'bool'>\n"
     ]
    }
   ],
   "source": [
    "#Write a program in Jupyter Notebook to declare variables of different data types (integer, float, string, and boolean). Print each variable and its type.\n",
    "integer_var = 10         # Integer\n",
    "float_var = 3.14         # Float\n",
    "string_var = \"Hello\"     # String\n",
    "boolean_var = True       # Boolean\n",
    "\n",
    "# Print each variable and its type\n",
    "print(f\"Integer variable: {integer_var}, Type: {type(integer_var)}\")\n",
    "print(f\"Float variable: {float_var}, Type: {type(float_var)}\")\n",
    "print(f\"String variable: {string_var}, Type: {type(string_var)}\")\n",
    "print(f\"Boolean variable: {boolean_var}, Type: {type(boolean_var)}\")"
   ]
  },
  {
   "cell_type": "code",
   "execution_count": 2,
   "metadata": {
    "colab": {
     "base_uri": "https://localhost:8080/"
    },
    "id": "StbSoA_RwvTA",
    "outputId": "8e953b2f-aeae-444b-a278-4571882eada0"
   },
   "outputs": [
    {
     "name": "stdout",
     "output_type": "stream",
     "text": [
      "List:\n",
      "First element: 10\n",
      "Last element: 50\n",
      "Slice (index 1 to 3): [20, 30, 40]\n",
      "\n",
      "Tuple:\n",
      "Second element: banana\n",
      "Last element: elderberry\n",
      "Slice (index 0 to 2): ('apple', 'banana', 'cherry')\n",
      "\n",
      "Dictionary:\n",
      "Value of 'name': Alice\n",
      "Value of 'age': 25\n",
      "Keys: ['name', 'age', 'city', 'country', 'profession']\n",
      "Values: ['Alice', 25, 'New York', 'USA', 'Engineer']\n"
     ]
    }
   ],
   "source": [
    "#Create a List, tuple and Dictionary with 5 elements in it and how to access few elements based on the index. Try  with different examples \n",
    "# Creating a List\n",
    "my_list = [10, 20, 30, 40, 50]\n",
    "\n",
    "# Accessing elements of the list\n",
    "print(\"List:\")\n",
    "print(f\"First element: {my_list[0]}\")\n",
    "print(f\"Last element: {my_list[-1]}\")\n",
    "print(f\"Slice (index 1 to 3): {my_list[1:4]}\")  # Slice: includes index 1, 2, 3\n",
    "\n",
    "# Creating a Tuple\n",
    "my_tuple = (\"apple\", \"banana\", \"cherry\", \"date\", \"elderberry\")\n",
    "\n",
    "# Accessing elements of the tuple\n",
    "print(\"\\nTuple:\")\n",
    "print(f\"Second element: {my_tuple[1]}\")\n",
    "print(f\"Last element: {my_tuple[-1]}\")\n",
    "print(f\"Slice (index 0 to 2): {my_tuple[:3]}\")  # Slice: includes index 0, 1, 2\n",
    "\n",
    "# Creating a Dictionary\n",
    "my_dict = {\n",
    "    \"name\": \"Alice\",\n",
    "    \"age\": 25,\n",
    "    \"city\": \"New York\",\n",
    "    \"country\": \"USA\",\n",
    "    \"profession\": \"Engineer\"\n",
    "}\n",
    "\n",
    "# Accessing elements of the dictionary\n",
    "print(\"\\nDictionary:\")\n",
    "print(f\"Value of 'name': {my_dict['name']}\")\n",
    "print(f\"Value of 'age': {my_dict['age']}\")\n",
    "print(f\"Keys: {list(my_dict.keys())}\")\n",
    "print(f\"Values: {list(my_dict.values())}\")\n"
   ]
  },
  {
   "cell_type": "code",
   "execution_count": 3,
   "metadata": {
    "colab": {
     "base_uri": "https://localhost:8080/"
    },
    "id": "ilK4DWG7xOxr",
    "outputId": "e588fbc5-5aa0-4b34-cbb3-4d8294fe55d4"
   },
   "outputs": [
    {
     "name": "stdout",
     "output_type": "stream",
     "text": [
      "Enter marks for Subject 1: 60\n",
      "Enter marks for Subject 2: 80\n",
      "Enter marks for Subject 3: 78\n",
      "Average Marks: 72.67\n",
      "Grade: C\n"
     ]
    }
   ],
   "source": [
    "#Write a Python program that takes a student's marks in three subjects as input.If the average is greater than or equal to 90, print \"Grade: A\".If the average is between 80 and 89, print \"Grade: B\".If the average is between 70 and 79, print \"Grade: C\".\n",
    "Otherwise, print \"Grade: Fail\".\n",
    "# Input marks for three subjects\n",
    "subject1 = float(input(\"Enter marks for Subject 1: \"))\n",
    "subject2 = float(input(\"Enter marks for Subject 2: \"))\n",
    "subject3 = float(input(\"Enter marks for Subject 3: \"))\n",
    "\n",
    "# Calculate the average\n",
    "average = (subject1 + subject2 + subject3) / 3\n",
    "\n",
    "# Determine the grade\n",
    "if average >= 90:\n",
    "    grade = \"A\"\n",
    "elif 80 <= average < 90:\n",
    "    grade = \"B\"\n",
    "elif 70 <= average < 80:\n",
    "    grade = \"C\"\n",
    "else:\n",
    "    grade = \"Fail\"\n",
    "\n",
    "# Print the grade\n",
    "print(f\"Average Marks: {average:.2f}\")\n",
    "print(f\"Grade: {grade}\")\n"
   ]
  },
  {
   "cell_type": "code",
   "execution_count": 4,
   "metadata": {
    "colab": {
     "base_uri": "https://localhost:8080/"
    },
    "id": "Iu7JL8Jpx71L",
    "outputId": "0cedc3e5-0b09-4692-a019-5f2d1c94023a"
   },
   "outputs": [
    {
     "name": "stdout",
     "output_type": "stream",
     "text": [
      "Enter a positive integer: 5\n",
      "The sum of all even numbers between 1 and 5 is: 6\n"
     ]
    }
   ],
   "source": [
    "#Write a Python program to calculate the sum of all even numbers between 1 and a given positive integer n\n",
    "# Input: Get the value of n from the user\n",
    "n = int(input(\"Enter a positive integer: \"))\n",
    "\n",
    "# Calculate the sum of all even numbers between 1 and n\n",
    "even_sum = sum(num for num in range(1, n + 1) if num % 2 == 0)\n",
    "\n",
    "# Output the result\n",
    "print(f\"The sum of all even numbers between 1 and {n} is: {even_sum}\")\n"
   ]
  },
  {
   "cell_type": "code",
   "execution_count": 6,
   "metadata": {
    "colab": {
     "base_uri": "https://localhost:8080/"
    },
    "id": "PPQqBbmByBmE",
    "outputId": "7da70cc6-277f-43f0-fffc-7eb9b65d8833"
   },
   "outputs": [
    {
     "name": "stdout",
     "output_type": "stream",
     "text": [
      "Enter the text: How are you?\n",
      "\n",
      "Word Frequencies:\n",
      "how: 1\n",
      "are: 1\n",
      "you?: 1\n"
     ]
    }
   ],
   "source": [
    "#write a python program to print the frequncey of each word in given text print the words and their corresponding counts\n",
    "# Input: Get the text from the user\n",
    "text = input(\"Enter the text: \")\n",
    "\n",
    "# Split the text into words and normalize (convert to lowercase)\n",
    "words = text.lower().split()\n",
    "\n",
    "# Create a dictionary to store word frequencies\n",
    "word_frequency = {}\n",
    "\n",
    "# Count the frequency of each word\n",
    "for word in words:\n",
    "    word_frequency[word] = word_frequency.get(word, 0) + 1\n",
    "\n",
    "# Print each word and its frequency\n",
    "print(\"\\nWord Frequencies:\")\n",
    "for word, count in word_frequency.items():\n",
    "    print(f\"{word}: {count}\")\n"
   ]
  },
  {
   "cell_type": "code",
   "execution_count": 2,
   "metadata": {
    "colab": {
     "base_uri": "https://localhost:8080/"
    },
    "id": "bVbL4InRy0ZK",
    "outputId": "919eef22-814a-422c-99ce-16ebea45a5a7"
   },
   "outputs": [
    {
     "name": "stderr",
     "output_type": "stream",
     "text": [
      "[nltk_data] Downloading package stopwords to /Users/ysp/nltk_data...\n",
      "[nltk_data]   Package stopwords is already up-to-date!\n"
     ]
    },
    {
     "name": "stdin",
     "output_type": "stream",
     "text": [
      "Enter the text:  I'm Yoshitha\n"
     ]
    },
    {
     "name": "stdout",
     "output_type": "stream",
     "text": [
      "\n",
      "Original Text:\n",
      "I'm Yoshitha\n",
      "\n",
      "Lowercase Text:\n",
      "i 'm yoshitha\n",
      "\n",
      "Text without Stopwords:\n",
      "'m yoshitha\n"
     ]
    }
   ],
   "source": [
    "#Write a Python program to using NLTK and Spacy Convert text to lowercase Remove stopwords using NLTK\n",
    "import nltk\n",
    "from nltk.corpus import stopwords\n",
    "import spacy\n",
    "\n",
    "# Download NLTK stopwords\n",
    "nltk.download('stopwords')\n",
    "\n",
    "# Load spaCy English model\n",
    "nlp = spacy.load('en_core_web_sm')\n",
    "\n",
    "# Input text\n",
    "text = input(\"Enter the text: \")\n",
    "\n",
    "# Convert text to lowercase using spaCy\n",
    "doc = nlp(text.lower())\n",
    "lowercase_text = \" \".join([token.text for token in doc])\n",
    "\n",
    "# Remove stopwords using NLTK\n",
    "stop_words = set(stopwords.words('english'))\n",
    "filtered_words = [word for word in lowercase_text.split() if word not in stop_words]\n",
    "\n",
    "# Display results\n",
    "print(\"\\nOriginal Text:\")\n",
    "print(text)\n",
    "print(\"\\nLowercase Text:\")\n",
    "print(lowercase_text)\n",
    "print(\"\\nText without Stopwords:\")\n",
    "print(\" \".join(filtered_words))"
   ]
  },
  {
   "cell_type": "code",
   "execution_count": null,
   "metadata": {
    "id": "chKOqa03z_hp"
   },
   "outputs": [],
   "source": []
  }
 ],
 "metadata": {
  "colab": {
   "provenance": []
  },
  "kernelspec": {
   "display_name": "Python [conda env:base] *",
   "language": "python",
   "name": "conda-base-py"
  },
  "language_info": {
   "codemirror_mode": {
    "name": "ipython",
    "version": 3
   },
   "file_extension": ".py",
   "mimetype": "text/x-python",
   "name": "python",
   "nbconvert_exporter": "python",
   "pygments_lexer": "ipython3",
   "version": "3.12.7"
  }
 },
 "nbformat": 4,
 "nbformat_minor": 4
}
