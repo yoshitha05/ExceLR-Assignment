{
 "cells": [
  {
   "cell_type": "code",
   "execution_count": 2,
   "id": "e308c8bf-cd5b-489b-8c17-daeb6e4e6454",
   "metadata": {},
   "outputs": [
    {
     "name": "stdout",
     "output_type": "stream",
     "text": [
      "Model Accuracy: 0.50\n",
      "'Win a free vacation now' -> Spam\n",
      "'See you at the meeting' -> Not Spam\n"
     ]
    }
   ],
   "source": [
    "from sklearn.ensemble import RandomForestClassifier\n",
    "from sklearn.feature_extraction.text import TfidfVectorizer\n",
    "from sklearn.model_selection import train_test_split\n",
    "from sklearn.metrics import accuracy_score\n",
    "\n",
    "texts = [\n",
    "    \"Buy now and win a prize\", \"Normal email content\", \"Congratulations, you won!\", \n",
    "    \"Limited offer just for you\", \"Hello, how are you?\", \"Claim your free gift now!\",\n",
    "    \"Meeting scheduled at 5 PM\", \"Exclusive deal, act fast!\", \"Let's catch up tomorrow\"\n",
    "]\n",
    "labels = [1, 0, 1, 1, 0, 1, 0, 1, 0]\n",
    "\n",
    "vectorizer = TfidfVectorizer()\n",
    "X = vectorizer.fit_transform(texts)\n",
    "\n",
    "X_train, X_test, y_train, y_test = train_test_split(X, labels, test_size=0.2, random_state=42)\n",
    "\n",
    "model = RandomForestClassifier(n_estimators=100, random_state=42)\n",
    "model.fit(X_train, y_train)\n",
    "\n",
    "y_pred = model.predict(X_test)\n",
    "\n",
    "accuracy = accuracy_score(y_test, y_pred)\n",
    "print(f\"Model Accuracy: {accuracy:.2f}\")\n",
    "\n",
    "new_texts = [\"Win a free vacation now\", \"See you at the meeting\"]\n",
    "X_new = vectorizer.transform(new_texts)\n",
    "predictions = model.predict(X_new)\n",
    "\n",
    "for text, pred in zip(new_texts, predictions):\n",
    "    print(f\"'{text}' -> {'Spam' if pred == 1 else 'Not Spam'}\")"
   ]
  },
  {
   "cell_type": "code",
   "execution_count": null,
   "id": "1b2e5990-8f3b-4360-a1e1-db973e1bc292",
   "metadata": {},
   "outputs": [],
   "source": []
  }
 ],
 "metadata": {
  "kernelspec": {
   "display_name": "Python [conda env:anaconda3]",
   "language": "python",
   "name": "conda-env-anaconda3-py"
  },
  "language_info": {
   "codemirror_mode": {
    "name": "ipython",
    "version": 3
   },
   "file_extension": ".py",
   "mimetype": "text/x-python",
   "name": "python",
   "nbconvert_exporter": "python",
   "pygments_lexer": "ipython3",
   "version": "3.12.7"
  }
 },
 "nbformat": 4,
 "nbformat_minor": 5
}
