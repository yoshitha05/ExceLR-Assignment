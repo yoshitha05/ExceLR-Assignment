{
 "cells": [
  {
   "cell_type": "code",
   "execution_count": 2,
   "id": "ae54459d-8505-4148-b3d8-8873ed25c304",
   "metadata": {},
   "outputs": [
    {
     "name": "stdout",
     "output_type": "stream",
     "text": [
      "Predicted Category: spam\n"
     ]
    }
   ],
   "source": [
    "from sklearn.feature_extraction.text import TfidfVectorizer\n",
    "from sklearn.tree import DecisionTreeClassifier\n",
    "from sklearn.pipeline import make_pipeline\n",
    "\n",
    "corpus = [\n",
    "    \"Spam messages are annoying\",\n",
    "    \"I won a lottery\",\n",
    "    \"This is a normal message\",\n",
    "    \"Congratulations, you won a prize\",\n",
    "    \"Hello, how are you?\",\n",
    "    \"Win big cash now\"\n",
    "]\n",
    "\n",
    "labels = [\"spam\", \"spam\", \"ham\", \"spam\", \"ham\", \"spam\"]\n",
    "\n",
    "model = make_pipeline(TfidfVectorizer(), DecisionTreeClassifier())\n",
    "\n",
    "model.fit(corpus, labels)\n",
    "\n",
    "new_text = [\"You have won a free gift\"]\n",
    "predicted_category = model.predict(new_text)\n",
    "\n",
    "print(f\"Predicted Category: {predicted_category[0]}\")"
   ]
  },
  {
   "cell_type": "code",
   "execution_count": null,
   "id": "613d5c5c-8941-4f48-a888-da3b55a69b37",
   "metadata": {},
   "outputs": [],
   "source": []
  }
 ],
 "metadata": {
  "kernelspec": {
   "display_name": "Python [conda env:anaconda3]",
   "language": "python",
   "name": "conda-env-anaconda3-py"
  },
  "language_info": {
   "codemirror_mode": {
    "name": "ipython",
    "version": 3
   },
   "file_extension": ".py",
   "mimetype": "text/x-python",
   "name": "python",
   "nbconvert_exporter": "python",
   "pygments_lexer": "ipython3",
   "version": "3.12.7"
  }
 },
 "nbformat": 4,
 "nbformat_minor": 5
}
