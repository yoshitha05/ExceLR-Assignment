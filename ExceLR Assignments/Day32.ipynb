{
 "cells": [
  {
   "cell_type": "markdown",
   "id": "cd338fce-1deb-488b-b85e-bd875d8746bb",
   "metadata": {},
   "source": [
    "**Coding Exercise: Exercises Covering All Concepts\n",
    "Write a Python program to load a text file, perform tokenization, calculate the term frequency (TF) of each token, and display the top 5 most frequent tokens.**"
   ]
  },
  {
   "cell_type": "code",
   "execution_count": 5,
   "id": "2c816512-b7b0-40f0-bb89-1d42552c5b68",
   "metadata": {},
   "outputs": [
    {
     "name": "stdin",
     "output_type": "stream",
     "text": [
      "Enter the path to the text file:  ExceLR Assignments/day24.txt\n"
     ]
    },
    {
     "name": "stdout",
     "output_type": "stream",
     "text": [
      "File not found. Please check the file path.\n"
     ]
    }
   ],
   "source": [
    "from collections import Counter\n",
    "import string\n",
    "\n",
    "def load_text_file(file_path):\n",
    "    \"\"\"Load the content of a text file.\"\"\"\n",
    "    try:\n",
    "        with open(file_path, 'r') as file:\n",
    "            text = file.read()\n",
    "        return text\n",
    "    except FileNotFoundError:\n",
    "        print(\"File not found. Please check the file path.\")\n",
    "        return None\n",
    "\n",
    "def tokenize(text):\n",
    "    \"\"\"Tokenize the text into words.\"\"\"\n",
    "    text = text.translate(str.maketrans(\"\", \"\", string.punctuation)).lower()\n",
    "    tokens = text.split()\n",
    "    return tokens\n",
    "\n",
    "def calculate_term_frequency(tokens):\n",
    "    \"\"\"Calculate the term frequency of each token.\"\"\"\n",
    "    return Counter(tokens)\n",
    "\n",
    "def display_top_tokens(term_frequencies, top_n=5):\n",
    "    \"\"\"Display the top N most frequent tokens.\"\"\"\n",
    "    print(f\"\\nTop {top_n} most frequent tokens:\")\n",
    "    for token, freq in term_frequencies.most_common(top_n):\n",
    "        print(f\"{token}: {freq}\")\n",
    "\n",
    "if __name__ == \"__main__\":\n",
    "    file_path = input(\"Enter the path to the text file: \")\n",
    "\n",
    "    text = load_text_file(file_path)\n",
    "    if text is not None:\n",
    "        tokens = tokenize(text)\n",
    "        term_frequencies = calculate_term_frequency(tokens)\n",
    "        display_top_tokens(term_frequencies, top_n=5)"
   ]
  },
  {
   "cell_type": "code",
   "execution_count": null,
   "id": "b47da0cd-52fc-4c29-ab67-9d57d00fa439",
   "metadata": {},
   "outputs": [],
   "source": []
  }
 ],
 "metadata": {
  "kernelspec": {
   "display_name": "Python [conda env:anaconda3]",
   "language": "python",
   "name": "conda-env-anaconda3-py"
  },
  "language_info": {
   "codemirror_mode": {
    "name": "ipython",
    "version": 3
   },
   "file_extension": ".py",
   "mimetype": "text/x-python",
   "name": "python",
   "nbconvert_exporter": "python",
   "pygments_lexer": "ipython3",
   "version": "3.12.7"
  }
 },
 "nbformat": 4,
 "nbformat_minor": 5
}
