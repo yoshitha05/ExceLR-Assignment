{
 "cells": [
  {
   "cell_type": "markdown",
   "id": "cbb4244e-6d06-457d-b94c-74789d5a258a",
   "metadata": {},
   "source": [
    "**Coding Exercise: Named Entity Recognition (NER)\n",
    "Write a Python program to perform Named Entity Recognition (NER) on a given text using SpaCy. Print the entities and their types.**"
   ]
  },
  {
   "cell_type": "code",
   "execution_count": 7,
   "id": "5743047b-e6bb-4ccd-9e11-b1d9bc2b0b16",
   "metadata": {},
   "outputs": [
    {
     "name": "stdout",
     "output_type": "stream",
     "text": [
      "Named Entities and their Types:\n",
      "Apple Inc.: ORG (Companies, agencies, institutions, etc.)\n",
      "American: NORP (Nationalities or religious or political groups)\n",
      "Cupertino: GPE (Countries, cities, states)\n",
      "California: GPE (Countries, cities, states)\n",
      "Steve Jobs: PERSON (People, including fictional)\n",
      "Steve Wozniak: PERSON (People, including fictional)\n",
      "Ronald Wayne: PERSON (People, including fictional)\n",
      "1976: DATE (Absolute or relative dates or periods)\n",
      "Microsoft Corporation: ORG (Companies, agencies, institutions, etc.)\n"
     ]
    }
   ],
   "source": [
    "import spacy\n",
    "\n",
    "def perform_ner(text):\n",
    "    nlp = spacy.load(\"en_core_web_sm\")\n",
    "    doc = nlp(text)\n",
    "    print(\"Named Entities and their Types:\")\n",
    "    for ent in doc.ents:\n",
    "        print(f\"{ent.text}: {ent.label_} ({spacy.explain(ent.label_)})\")\n",
    "\n",
    "\n",
    "text = \"\"\"\n",
    "Apple Inc. is an American multinational technology company headquartered in Cupertino, California.\n",
    "It was founded by Steve Jobs, Steve Wozniak, and Ronald Wayne in 1976.\n",
    "Microsoft Corporation is one of its main competitors.\n",
    "\"\"\"\n",
    "\n",
    "perform_ner(text)"
   ]
  },
  {
   "cell_type": "code",
   "execution_count": null,
   "id": "4a625848-5654-4896-b1d4-16f1db5c3f53",
   "metadata": {},
   "outputs": [],
   "source": []
  }
 ],
 "metadata": {
  "kernelspec": {
   "display_name": "Python [conda env:anaconda3]",
   "language": "python",
   "name": "conda-env-anaconda3-py"
  },
  "language_info": {
   "codemirror_mode": {
    "name": "ipython",
    "version": 3
   },
   "file_extension": ".py",
   "mimetype": "text/x-python",
   "name": "python",
   "nbconvert_exporter": "python",
   "pygments_lexer": "ipython3",
   "version": "3.12.7"
  }
 },
 "nbformat": 4,
 "nbformat_minor": 5
}
