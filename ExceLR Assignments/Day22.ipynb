{
 "cells": [
  {
   "cell_type": "markdown",
   "id": "41a46afa-5481-4962-a32d-201bd50929e3",
   "metadata": {},
   "source": [
    "**Part of Speech Tagging using SpaCy - Coding Assignment\n",
    "Assignment:\n",
    "Write a Python script to perform part-of-speech tagging on the sentence: 'NLP is amazing and fun to learn.' using SpaCy.**"
   ]
  },
  {
   "cell_type": "code",
   "execution_count": 3,
   "id": "56caa6c7-c3d9-4755-bf9d-de09ae436c8e",
   "metadata": {},
   "outputs": [
    {
     "name": "stdout",
     "output_type": "stream",
     "text": [
      "NLP: PROPN\n",
      "is: AUX\n",
      "amazing: ADJ\n",
      "and: CCONJ\n",
      "fun: ADJ\n",
      "to: PART\n",
      "learn: VERB\n",
      ".: PUNCT\n"
     ]
    }
   ],
   "source": [
    "import spacy\n",
    "\n",
    "# Load the SpaCy model (en_core_web_sm is the small English model)\n",
    "nlp = spacy.load('en_core_web_sm')\n",
    "\n",
    "def pos_tagging(sentence):\n",
    "    # Process the sentence with SpaCy\n",
    "    doc = nlp(sentence)\n",
    "    \n",
    "    # Iterate over the tokens in the document and print their text and POS tags\n",
    "    for token in doc:\n",
    "        print(f'{token.text}: {token.pos_}')\n",
    "\n",
    "# Sentence for part-of-speech tagging\n",
    "sentence = 'NLP is amazing and fun to learn.'\n",
    "\n",
    "# Perform part-of-speech tagging\n",
    "pos_tagging(sentence)"
   ]
  },
  {
   "cell_type": "code",
   "execution_count": null,
   "id": "6ca8a303-c8e5-4886-b2b7-6a0e0a89da8f",
   "metadata": {},
   "outputs": [],
   "source": []
  }
 ],
 "metadata": {
  "kernelspec": {
   "display_name": "Python [conda env:anaconda3]",
   "language": "python",
   "name": "conda-env-anaconda3-py"
  },
  "language_info": {
   "codemirror_mode": {
    "name": "ipython",
    "version": 3
   },
   "file_extension": ".py",
   "mimetype": "text/x-python",
   "name": "python",
   "nbconvert_exporter": "python",
   "pygments_lexer": "ipython3",
   "version": "3.12.7"
  }
 },
 "nbformat": 4,
 "nbformat_minor": 5
}
