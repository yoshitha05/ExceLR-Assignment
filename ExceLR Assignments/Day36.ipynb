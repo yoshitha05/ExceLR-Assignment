{
 "cells": [
  {
   "cell_type": "code",
   "execution_count": 2,
   "id": "41000c18-f7d2-44b7-89aa-4c0e72f61564",
   "metadata": {},
   "outputs": [
    {
     "name": "stdout",
     "output_type": "stream",
     "text": [
      "Predicted Category: ml\n"
     ]
    }
   ],
   "source": [
    "from sklearn.feature_extraction.text import CountVectorizer\n",
    "from sklearn.naive_bayes import MultinomialNB\n",
    "from sklearn.pipeline import make_pipeline\n",
    "\n",
    "corpus = [\n",
    "    \"I love programming\",\n",
    "    \"Python is great\",\n",
    "    \"Machine learning is amazing\",\n",
    "    \"I enjoy solving coding problems\",\n",
    "    \"Deep learning is powerful\",\n",
    "    \"Artificial Intelligence is the future\"\n",
    "]\n",
    "\n",
    "labels = [\"tech\", \"tech\", \"ml\", \"tech\", \"ml\", \"ml\"]\n",
    "\n",
    "model = make_pipeline(CountVectorizer(), MultinomialNB())\n",
    "\n",
    "model.fit(corpus, labels)\n",
    "\n",
    "new_text = [\"I am learning Python\"]\n",
    "predicted_category = model.predict(new_text)\n",
    "\n",
    "print(f\"Predicted Category: {predicted_category[0]}\")"
   ]
  },
  {
   "cell_type": "code",
   "execution_count": null,
   "id": "506166bf-926d-4992-96a2-69505b598b29",
   "metadata": {},
   "outputs": [],
   "source": []
  }
 ],
 "metadata": {
  "kernelspec": {
   "display_name": "Python [conda env:anaconda3]",
   "language": "python",
   "name": "conda-env-anaconda3-py"
  },
  "language_info": {
   "codemirror_mode": {
    "name": "ipython",
    "version": 3
   },
   "file_extension": ".py",
   "mimetype": "text/x-python",
   "name": "python",
   "nbconvert_exporter": "python",
   "pygments_lexer": "ipython3",
   "version": "3.12.7"
  }
 },
 "nbformat": 4,
 "nbformat_minor": 5
}
