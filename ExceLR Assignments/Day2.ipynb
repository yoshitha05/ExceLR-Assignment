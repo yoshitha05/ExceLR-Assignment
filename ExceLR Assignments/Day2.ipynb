{
 "cells": [
  {
   "cell_type": "code",
   "execution_count": 2,
   "id": "83af3a6f-fdb3-4107-8e33-85b511049053",
   "metadata": {},
   "outputs": [
    {
     "name": "stdout",
     "output_type": "stream",
     "text": [
      "List:\n",
      "First element: 10\n",
      "Last element: 50\n",
      "Slice (index 1 to 3): [20, 30, 40]\n",
      "\n",
      "Tuple:\n",
      "Second element: banana\n",
      "Last element: elderberry\n",
      "Slice (index 0 to 2): ('apple', 'banana', 'cherry')\n",
      "\n",
      "Dictionary:\n",
      "Value of 'name': Alice\n",
      "Value of 'age': 25\n",
      "Keys: ['name', 'age', 'city', 'country', 'profession']\n",
      "Values: ['Alice', 25, 'New York', 'USA', 'Engineer']\n"
     ]
    }
   ],
   "source": [
    "#Create a List, tuple and Dictionary with 5 elements in it and how to access few elements based on the index. Try  with different examples \n",
    "# Creating a List\n",
    "my_list = [10, 20, 30, 40, 50]\n",
    "\n",
    "# Accessing elements of the list\n",
    "print(\"List:\")\n",
    "print(f\"First element: {my_list[0]}\")\n",
    "print(f\"Last element: {my_list[-1]}\")\n",
    "print(f\"Slice (index 1 to 3): {my_list[1:4]}\")  # Slice: includes index 1, 2, 3\n",
    "\n",
    "# Creating a Tuple\n",
    "my_tuple = (\"apple\", \"banana\", \"cherry\", \"date\", \"elderberry\")\n",
    "\n",
    "# Accessing elements of the tuple\n",
    "print(\"\\nTuple:\")\n",
    "print(f\"Second element: {my_tuple[1]}\")\n",
    "print(f\"Last element: {my_tuple[-1]}\")\n",
    "print(f\"Slice (index 0 to 2): {my_tuple[:3]}\")  # Slice: includes index 0, 1, 2\n",
    "\n",
    "# Creating a Dictionary\n",
    "my_dict = {\n",
    "    \"name\": \"Alice\",\n",
    "    \"age\": 25,\n",
    "    \"city\": \"New York\",\n",
    "    \"country\": \"USA\",\n",
    "    \"profession\": \"Engineer\"\n",
    "}\n",
    "\n",
    "# Accessing elements of the dictionary\n",
    "print(\"\\nDictionary:\")\n",
    "print(f\"Value of 'name': {my_dict['name']}\")\n",
    "print(f\"Value of 'age': {my_dict['age']}\")\n",
    "print(f\"Keys: {list(my_dict.keys())}\")\n",
    "print(f\"Values: {list(my_dict.values())}\")"
   ]
  },
  {
   "cell_type": "code",
   "execution_count": null,
   "id": "927c8d3f-8f9d-4cbe-b48b-d69be55f5a07",
   "metadata": {},
   "outputs": [],
   "source": []
  }
 ],
 "metadata": {
  "kernelspec": {
   "display_name": "Python [conda env:anaconda3]",
   "language": "python",
   "name": "conda-env-anaconda3-py"
  },
  "language_info": {
   "codemirror_mode": {
    "name": "ipython",
    "version": 3
   },
   "file_extension": ".py",
   "mimetype": "text/x-python",
   "name": "python",
   "nbconvert_exporter": "python",
   "pygments_lexer": "ipython3",
   "version": "3.12.7"
  }
 },
 "nbformat": 4,
 "nbformat_minor": 5
}
