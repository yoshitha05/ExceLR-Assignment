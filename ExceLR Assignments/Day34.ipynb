{
 "cells": [
  {
   "cell_type": "code",
   "execution_count": 2,
   "id": "cb2b37fa-623c-4578-b94f-59594796e68a",
   "metadata": {},
   "outputs": [
    {
     "name": "stdout",
     "output_type": "stream",
     "text": [
      "Bag of Words (BoW) Representation:\n",
      "   amazing  deep  fun  is  learning  love  machine\n",
      "0        0     0    0   0         1     1        1\n",
      "1        0     0    1   1         1     0        1\n",
      "2        1     1    0   1         1     0        0\n",
      "\n",
      "TF-IDF Representation:\n",
      "    amazing      deep       fun        is  learning      love   machine\n",
      "0  0.000000  0.000000  0.000000  0.000000  0.425441  0.720333  0.547832\n",
      "1  0.000000  0.000000  0.631745  0.480458  0.373119  0.000000  0.480458\n",
      "2  0.584483  0.584483  0.000000  0.444514  0.345205  0.000000  0.000000\n"
     ]
    }
   ],
   "source": [
    "from sklearn.feature_extraction.text import CountVectorizer, TfidfVectorizer\n",
    "import pandas as pd\n",
    "\n",
    "corpus = [\n",
    "    \"I love machine learning\",\n",
    "    \"Machine learning is fun\",\n",
    "    \"Deep learning is amazing\"\n",
    "]\n",
    "\n",
    "vectorizer_bow = CountVectorizer()\n",
    "X_bow = vectorizer_bow.fit_transform(corpus)\n",
    "\n",
    "bow_df = pd.DataFrame(X_bow.toarray(), columns=vectorizer_bow.get_feature_names_out())\n",
    "print(\"Bag of Words (BoW) Representation:\")\n",
    "print(bow_df)\n",
    "\n",
    "vectorizer_tfidf = TfidfVectorizer()\n",
    "X_tfidf = vectorizer_tfidf.fit_transform(corpus)\n",
    "\n",
    "tfidf_df = pd.DataFrame(X_tfidf.toarray(), columns=vectorizer_tfidf.get_feature_names_out())\n",
    "print(\"\\nTF-IDF Representation:\")\n",
    "print(tfidf_df)"
   ]
  },
  {
   "cell_type": "code",
   "execution_count": null,
   "id": "a4d8b79b-0f95-43f6-bcd3-f2987a2b7d96",
   "metadata": {},
   "outputs": [],
   "source": []
  }
 ],
 "metadata": {
  "kernelspec": {
   "display_name": "Python [conda env:anaconda3]",
   "language": "python",
   "name": "conda-env-anaconda3-py"
  },
  "language_info": {
   "codemirror_mode": {
    "name": "ipython",
    "version": 3
   },
   "file_extension": ".py",
   "mimetype": "text/x-python",
   "name": "python",
   "nbconvert_exporter": "python",
   "pygments_lexer": "ipython3",
   "version": "3.12.7"
  }
 },
 "nbformat": 4,
 "nbformat_minor": 5
}
