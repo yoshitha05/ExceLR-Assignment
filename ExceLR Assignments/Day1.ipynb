{
 "cells": [
  {
   "cell_type": "code",
   "execution_count": 4,
   "id": "cf91095a-d21e-40c6-a414-026d1367a74e",
   "metadata": {},
   "outputs": [
    {
     "name": "stdout",
     "output_type": "stream",
     "text": [
      "Integer variable: 10, Type: <class 'int'>\n",
      "Float variable: 3.14, Type: <class 'float'>\n",
      "String variable: Hello, Type: <class 'str'>\n",
      "Boolean variable: True, Type: <class 'bool'>\n"
     ]
    }
   ],
   "source": [
    "#Write a program in Jupyter Notebook to declare variables of different data types (integer, float, string, and boolean). Print each variable and its type.\n",
    "integer_var = 10         \n",
    "float_var = 3.14         \n",
    "string_var = \"Hello\"     \n",
    "boolean_var = True      \n",
    "\n",
    "print(f\"Integer variable: {integer_var}, Type: {type(integer_var)}\")\n",
    "print(f\"Float variable: {float_var}, Type: {type(float_var)}\")\n",
    "print(f\"String variable: {string_var}, Type: {type(string_var)}\")\n",
    "print(f\"Boolean variable: {boolean_var}, Type: {type(boolean_var)}\")"
   ]
  }
 ],
 "metadata": {
  "kernelspec": {
   "display_name": "Python [conda env:anaconda3]",
   "language": "python",
   "name": "conda-env-anaconda3-py"
  },
  "language_info": {
   "codemirror_mode": {
    "name": "ipython",
    "version": 3
   },
   "file_extension": ".py",
   "mimetype": "text/x-python",
   "name": "python",
   "nbconvert_exporter": "python",
   "pygments_lexer": "ipython3",
   "version": "3.12.7"
  }
 },
 "nbformat": 4,
 "nbformat_minor": 5
}
