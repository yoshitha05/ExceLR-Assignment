{
 "cells": [
  {
   "cell_type": "markdown",
   "id": "41732e14-b639-428b-8b1a-b82511183974",
   "metadata": {},
   "source": [
    "***Exercises on Web Scraping - Coding Assignment\n",
    "Assignment:\n",
    "Write a Python script to fetch and print the title of a webpage using the 'requests' and 'BeautifulSoup' libraries. Test it with the URL: 'https://example.com'.***"
   ]
  },
  {
   "cell_type": "code",
   "execution_count": 3,
   "id": "c420e550-3ee9-4bdf-9837-2571c68468c7",
   "metadata": {},
   "outputs": [
    {
     "name": "stdout",
     "output_type": "stream",
     "text": [
      "Page Title: Example Domain\n"
     ]
    }
   ],
   "source": [
    "import requests\n",
    "from bs4 import BeautifulSoup\n",
    "\n",
    "def fetch_page_title(url):\n",
    "    # Send a GET request to the webpage\n",
    "    response = requests.get(url)\n",
    "    \n",
    "    # Check if the request was successful (status code 200)\n",
    "    if response.status_code == 200:\n",
    "        # Parse the content of the webpage with BeautifulSoup\n",
    "        soup = BeautifulSoup(response.content, 'html.parser')\n",
    "        \n",
    "        # Find the title tag and extract the title text\n",
    "        title = soup.title.string\n",
    "        return title\n",
    "    else:\n",
    "        return f\"Failed to retrieve the page. Status code: {response.status_code}\"\n",
    "\n",
    "# Test the function with the URL\n",
    "url = 'https://example.com'\n",
    "title = fetch_page_title(url)\n",
    "\n",
    "# Print the webpage title\n",
    "print(\"Page Title:\", title)"
   ]
  },
  {
   "cell_type": "code",
   "execution_count": null,
   "id": "79c2e03f-97b9-4d27-8ac3-ec838e0f81e1",
   "metadata": {},
   "outputs": [],
   "source": []
  }
 ],
 "metadata": {
  "kernelspec": {
   "display_name": "Python [conda env:anaconda3]",
   "language": "python",
   "name": "conda-env-anaconda3-py"
  },
  "language_info": {
   "codemirror_mode": {
    "name": "ipython",
    "version": 3
   },
   "file_extension": ".py",
   "mimetype": "text/x-python",
   "name": "python",
   "nbconvert_exporter": "python",
   "pygments_lexer": "ipython3",
   "version": "3.12.7"
  }
 },
 "nbformat": 4,
 "nbformat_minor": 5
}
