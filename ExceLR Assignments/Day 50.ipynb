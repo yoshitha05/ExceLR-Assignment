{
 "cells": [
  {
   "cell_type": "code",
   "execution_count": 2,
   "id": "7a30015f-335d-4a5d-a68f-8cd727e27037",
   "metadata": {},
   "outputs": [
    {
     "name": "stdout",
     "output_type": "stream",
     "text": [
      "Requirement already satisfied: numpy in /opt/homebrew/anaconda3/lib/python3.12/site-packages (1.26.4)\n",
      "Note: you may need to restart the kernel to use updated packages.\n"
     ]
    }
   ],
   "source": [
    "pip install numpy"
   ]
  },
  {
   "cell_type": "code",
   "execution_count": 4,
   "id": "ac99d642-943c-44b1-90d3-9d4344ef4454",
   "metadata": {},
   "outputs": [
    {
     "name": "stdout",
     "output_type": "stream",
     "text": [
      "Query: [0.37454012 0.95071431 0.73199394]\n",
      "Key: [0.59865848 0.15601864 0.15599452]\n",
      "Value: [0.05808361 0.86617615 0.60111501]\n",
      "Attention Score: 0.4867\n",
      "Attention Weight: 1.0000\n",
      "Output (Weighted Value): [0.05808361 0.86617615 0.60111501]\n"
     ]
    }
   ],
   "source": [
    "import numpy as np\n",
    "\n",
    "np.random.seed(42)\n",
    "\n",
    "query = np.random.rand(3)\n",
    "key = np.random.rand(3)\n",
    "value = np.random.rand(3)\n",
    "\n",
    "attention_score = np.dot(query, key)\n",
    "\n",
    "attention_weight = np.exp(attention_score) / np.sum(np.exp(attention_score))\n",
    "\n",
    "output = attention_weight * value\n",
    "\n",
    "print(f\"Query: {query}\")\n",
    "print(f\"Key: {key}\")\n",
    "print(f\"Value: {value}\")\n",
    "print(f\"Attention Score: {attention_score:.4f}\")\n",
    "print(f\"Attention Weight: {attention_weight:.4f}\")\n",
    "print(f\"Output (Weighted Value): {output}\")\n"
   ]
  },
  {
   "cell_type": "code",
   "execution_count": null,
   "id": "ffb2ca48-8afe-4981-a14d-053cb073ba87",
   "metadata": {},
   "outputs": [],
   "source": []
  }
 ],
 "metadata": {
  "kernelspec": {
   "display_name": "Python [conda env:anaconda3]",
   "language": "python",
   "name": "conda-env-anaconda3-py"
  },
  "language_info": {
   "codemirror_mode": {
    "name": "ipython",
    "version": 3
   },
   "file_extension": ".py",
   "mimetype": "text/x-python",
   "name": "python",
   "nbconvert_exporter": "python",
   "pygments_lexer": "ipython3",
   "version": "3.12.7"
  }
 },
 "nbformat": 4,
 "nbformat_minor": 5
}
