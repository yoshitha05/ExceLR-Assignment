{
 "cells": [
  {
   "cell_type": "markdown",
   "id": "45b76944-17ed-4720-97ff-e386227b7346",
   "metadata": {},
   "source": [
    "***Write a Python script that: 1. Tokenizes a sample paragraph into words and sentences.***"
   ]
  },
  {
   "cell_type": "code",
   "execution_count": 7,
   "id": "defdfaef-3361-48d1-9c67-4c44901807ff",
   "metadata": {},
   "outputs": [
    {
     "name": "stdout",
     "output_type": "stream",
     "text": [
      "Sentences:\n",
      "['Hello, world!', 'Welcome to the field of Natural Language Processing.', 'This is a great opportunity to explore.']\n",
      "\n",
      "Words:\n",
      "['Hello', ',', 'world', '!', 'Welcome', 'to', 'the', 'field', 'of', 'Natural', 'Language', 'Processing', '.', 'This', 'is', 'a', 'great', 'opportunity', 'to', 'explore', '.']\n"
     ]
    },
    {
     "name": "stderr",
     "output_type": "stream",
     "text": [
      "[nltk_data] Downloading package punkt to /Users/ysp/nltk_data...\n",
      "[nltk_data]   Package punkt is already up-to-date!\n"
     ]
    }
   ],
   "source": [
    "import nltk\n",
    "\n",
    "# Download necessary resources from NLTK\n",
    "nltk.download('punkt')\n",
    "\n",
    "def tokenize_text(paragraph):\n",
    "    # Tokenize into sentences\n",
    "    sentences = nltk.sent_tokenize(paragraph)\n",
    "    \n",
    "    # Tokenize into words\n",
    "    words = nltk.word_tokenize(paragraph)\n",
    "    \n",
    "    return sentences, words\n",
    "\n",
    "# Sample paragraph\n",
    "paragraph = \"Hello, world! Welcome to the field of Natural Language Processing. This is a great opportunity to explore.\"\n",
    "\n",
    "# Tokenize the paragraph\n",
    "sentences, words = tokenize_text(paragraph)\n",
    "\n",
    "# Print the results\n",
    "print(\"Sentences:\")\n",
    "print(sentences)\n",
    "\n",
    "print(\"\\nWords:\")\n",
    "print(words)\n"
   ]
  },
  {
   "cell_type": "code",
   "execution_count": null,
   "id": "fff43a45-bc67-4e0d-85c9-6e1c97d9aae7",
   "metadata": {},
   "outputs": [],
   "source": []
  }
 ],
 "metadata": {
  "kernelspec": {
   "display_name": "Python [conda env:anaconda3]",
   "language": "python",
   "name": "conda-env-anaconda3-py"
  },
  "language_info": {
   "codemirror_mode": {
    "name": "ipython",
    "version": 3
   },
   "file_extension": ".py",
   "mimetype": "text/x-python",
   "name": "python",
   "nbconvert_exporter": "python",
   "pygments_lexer": "ipython3",
   "version": "3.12.7"
  }
 },
 "nbformat": 4,
 "nbformat_minor": 5
}
