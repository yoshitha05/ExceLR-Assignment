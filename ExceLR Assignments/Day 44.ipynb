{
 "cells": [
  {
   "cell_type": "code",
   "execution_count": 2,
   "id": "5350fdbf-b620-4911-9a6f-ce8dffa2fe92",
   "metadata": {},
   "outputs": [
    {
     "name": "stdin",
     "output_type": "stream",
     "text": [
      "You:  Hello\n"
     ]
    },
    {
     "name": "stdout",
     "output_type": "stream",
     "text": [
      "Bot: Hi! How can I help you?\n"
     ]
    },
    {
     "name": "stdin",
     "output_type": "stream",
     "text": [
      "You:  bye\n"
     ]
    },
    {
     "name": "stdout",
     "output_type": "stream",
     "text": [
      "Bot: Goodbye! Have a nice day!\n"
     ]
    }
   ],
   "source": [
    "def simple_chatbot():\n",
    "    while True:\n",
    "        user_input = input(\"You: \").strip().lower()\n",
    "        \n",
    "        if user_input == \"hello\":\n",
    "            print(\"Bot: Hi! How can I help you?\")\n",
    "        elif user_input == \"bye\":\n",
    "            print(\"Bot: Goodbye! Have a nice day!\")\n",
    "            break\n",
    "        else:\n",
    "            print(\"Bot: I'm not sure how to respond to that.\")\n",
    "\n",
    "simple_chatbot()"
   ]
  },
  {
   "cell_type": "code",
   "execution_count": null,
   "id": "e00450df-e263-46dd-b689-b792349b71a6",
   "metadata": {},
   "outputs": [],
   "source": []
  }
 ],
 "metadata": {
  "kernelspec": {
   "display_name": "Python [conda env:anaconda3]",
   "language": "python",
   "name": "conda-env-anaconda3-py"
  },
  "language_info": {
   "codemirror_mode": {
    "name": "ipython",
    "version": 3
   },
   "file_extension": ".py",
   "mimetype": "text/x-python",
   "name": "python",
   "nbconvert_exporter": "python",
   "pygments_lexer": "ipython3",
   "version": "3.12.7"
  }
 },
 "nbformat": 4,
 "nbformat_minor": 5
}
